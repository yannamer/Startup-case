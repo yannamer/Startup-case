{
 "cells": [
  {
   "cell_type": "markdown",
   "metadata": {},
   "source": [
    "**SCRAPPING**\n",
    "\n",
    "Dans cette première étape, nous allons effectuer du scrapping sur le site hellowork\n",
    "\n",
    "Celui-ci référence les emplois, le salaires, les zones sur une seule et même page.\n",
    "\n",
    "Il n'est pas nécéssaire de changer de page pour afficher plus d'offres, la pagination se fait automatiquement. Le maximum de page est géré par la variable maximum_pages.\n",
    "\n",
    "**Ce code a donc pour but de :**\n",
    "- Se rendre sur le site hellowork.com, section Data scientist en France\n",
    "- Collecter les données et les ranger dans un tableau via pandas (Nom des posts, nom de l'entreprise, type de post, zones, salaires, mois en cours, années en cours)\n",
    "- Passer à la page suivante dès que le scrapping est fait\n",
    "- Organiser les emplois par type (colonne Number) selon les mots clés : \n",
    "    - 1 Data analyst \n",
    "    - 2 Data scientist\n",
    "    - 3 Data engineer\n",
    "    - 4 Big data\n",
    "    - 5 Business Intelligence\n",
    "    - 6 Chef(fe) de projet\n",
    "    - 7 Developpeur\n",
    "    - 0 Autres post dans la data\n",
    "- Créer un fichier Excel avec les données collectées afin de les stocker\n",
    "- Etablire un model de régression linéaire afin d'évaluer l'évolution des salaire par type ainsi que l'évolution du nombre de post à pourvoir puis afficher graphiquement\n",
    "\n",
    "Vous pouvez run all directement"
   ]
  },
  {
   "cell_type": "markdown",
   "metadata": {},
   "source": [
    "--------------------------------------"
   ]
  },
  {
   "cell_type": "markdown",
   "metadata": {},
   "source": [
    "**Nous commençons par importer les packages**"
   ]
  },
  {
   "cell_type": "code",
   "execution_count": 1,
   "metadata": {},
   "outputs": [
    {
     "name": "stdout",
     "output_type": "stream",
     "text": [
      "Requirement already satisfied: pandas in c:\\users\\yanna\\appdata\\local\\programs\\python\\python312\\lib\\site-packages (2.1.2)\n",
      "Requirement already satisfied: numpy<2,>=1.26.0 in c:\\users\\yanna\\appdata\\local\\programs\\python\\python312\\lib\\site-packages (from pandas) (1.26.3)\n",
      "Requirement already satisfied: python-dateutil>=2.8.2 in c:\\users\\yanna\\appdata\\roaming\\python\\python312\\site-packages (from pandas) (2.8.2)\n",
      "Requirement already satisfied: pytz>=2020.1 in c:\\users\\yanna\\appdata\\local\\programs\\python\\python312\\lib\\site-packages (from pandas) (2023.3.post1)\n",
      "Requirement already satisfied: tzdata>=2022.1 in c:\\users\\yanna\\appdata\\local\\programs\\python\\python312\\lib\\site-packages (from pandas) (2023.3)\n",
      "Requirement already satisfied: six>=1.5 in c:\\users\\yanna\\appdata\\roaming\\python\\python312\\site-packages (from python-dateutil>=2.8.2->pandas) (1.16.0)\n",
      "Note: you may need to restart the kernel to use updated packages.\n"
     ]
    },
    {
     "name": "stderr",
     "output_type": "stream",
     "text": [
      "\n",
      "[notice] A new release of pip is available: 23.3.1 -> 23.3.2\n",
      "[notice] To update, run: python.exe -m pip install --upgrade pip\n"
     ]
    }
   ],
   "source": [
    "%pip install pandas"
   ]
  },
  {
   "cell_type": "code",
   "execution_count": 2,
   "metadata": {},
   "outputs": [
    {
     "name": "stdout",
     "output_type": "stream",
     "text": [
      "Requirement already satisfied: numpy in c:\\users\\yanna\\appdata\\local\\programs\\python\\python312\\lib\\site-packages (1.26.3)\n",
      "Note: you may need to restart the kernel to use updated packages.\n"
     ]
    },
    {
     "name": "stderr",
     "output_type": "stream",
     "text": [
      "\n",
      "[notice] A new release of pip is available: 23.3.1 -> 23.3.2\n",
      "[notice] To update, run: python.exe -m pip install --upgrade pip\n"
     ]
    }
   ],
   "source": [
    "%pip install numpy"
   ]
  },
  {
   "cell_type": "code",
   "execution_count": 3,
   "metadata": {},
   "outputs": [
    {
     "name": "stdout",
     "output_type": "stream",
     "text": [
      "Requirement already satisfied: selenium in c:\\users\\yanna\\appdata\\local\\programs\\python\\python312\\lib\\site-packages (4.16.0)\n",
      "Requirement already satisfied: urllib3<3,>=1.26 in c:\\users\\yanna\\appdata\\local\\programs\\python\\python312\\lib\\site-packages (from urllib3[socks]<3,>=1.26->selenium) (2.0.7)\n",
      "Requirement already satisfied: trio~=0.17 in c:\\users\\yanna\\appdata\\local\\programs\\python\\python312\\lib\\site-packages (from selenium) (0.23.2)\n",
      "Requirement already satisfied: trio-websocket~=0.9 in c:\\users\\yanna\\appdata\\local\\programs\\python\\python312\\lib\\site-packages (from selenium) (0.11.1)\n",
      "Requirement already satisfied: certifi>=2021.10.8 in c:\\users\\yanna\\appdata\\local\\programs\\python\\python312\\lib\\site-packages (from selenium) (2023.7.22)\n",
      "Requirement already satisfied: attrs>=20.1.0 in c:\\users\\yanna\\appdata\\local\\programs\\python\\python312\\lib\\site-packages (from trio~=0.17->selenium) (23.1.0)\n",
      "Requirement already satisfied: sortedcontainers in c:\\users\\yanna\\appdata\\local\\programs\\python\\python312\\lib\\site-packages (from trio~=0.17->selenium) (2.4.0)\n",
      "Requirement already satisfied: idna in c:\\users\\yanna\\appdata\\local\\programs\\python\\python312\\lib\\site-packages (from trio~=0.17->selenium) (3.4)\n",
      "Requirement already satisfied: outcome in c:\\users\\yanna\\appdata\\local\\programs\\python\\python312\\lib\\site-packages (from trio~=0.17->selenium) (1.3.0.post0)\n",
      "Requirement already satisfied: sniffio>=1.3.0 in c:\\users\\yanna\\appdata\\local\\programs\\python\\python312\\lib\\site-packages (from trio~=0.17->selenium) (1.3.0)\n",
      "Requirement already satisfied: cffi>=1.14 in c:\\users\\yanna\\appdata\\local\\programs\\python\\python312\\lib\\site-packages (from trio~=0.17->selenium) (1.16.0)\n",
      "Requirement already satisfied: wsproto>=0.14 in c:\\users\\yanna\\appdata\\local\\programs\\python\\python312\\lib\\site-packages (from trio-websocket~=0.9->selenium) (1.2.0)\n",
      "Requirement already satisfied: pysocks!=1.5.7,<2.0,>=1.5.6 in c:\\users\\yanna\\appdata\\local\\programs\\python\\python312\\lib\\site-packages (from urllib3[socks]<3,>=1.26->selenium) (1.7.1)\n",
      "Requirement already satisfied: pycparser in c:\\users\\yanna\\appdata\\local\\programs\\python\\python312\\lib\\site-packages (from cffi>=1.14->trio~=0.17->selenium) (2.21)\n",
      "Requirement already satisfied: h11<1,>=0.9.0 in c:\\users\\yanna\\appdata\\local\\programs\\python\\python312\\lib\\site-packages (from wsproto>=0.14->trio-websocket~=0.9->selenium) (0.14.0)\n",
      "Note: you may need to restart the kernel to use updated packages.\n"
     ]
    },
    {
     "name": "stderr",
     "output_type": "stream",
     "text": [
      "\n",
      "[notice] A new release of pip is available: 23.3.1 -> 23.3.2\n",
      "[notice] To update, run: python.exe -m pip install --upgrade pip\n"
     ]
    }
   ],
   "source": [
    "%pip install selenium"
   ]
  },
  {
   "cell_type": "code",
   "execution_count": 4,
   "metadata": {},
   "outputs": [
    {
     "name": "stdout",
     "output_type": "stream",
     "text": [
      "Requirement already satisfied: webdriver-manager in c:\\users\\yanna\\appdata\\local\\programs\\python\\python312\\lib\\site-packages (4.0.1)\n",
      "Requirement already satisfied: requests in c:\\users\\yanna\\appdata\\local\\programs\\python\\python312\\lib\\site-packages (from webdriver-manager) (2.31.0)\n",
      "Requirement already satisfied: python-dotenv in c:\\users\\yanna\\appdata\\local\\programs\\python\\python312\\lib\\site-packages (from webdriver-manager) (1.0.0)\n",
      "Requirement already satisfied: packaging in c:\\users\\yanna\\appdata\\roaming\\python\\python312\\site-packages (from webdriver-manager) (23.2)\n",
      "Requirement already satisfied: charset-normalizer<4,>=2 in c:\\users\\yanna\\appdata\\local\\programs\\python\\python312\\lib\\site-packages (from requests->webdriver-manager) (3.3.2)\n",
      "Requirement already satisfied: idna<4,>=2.5 in c:\\users\\yanna\\appdata\\local\\programs\\python\\python312\\lib\\site-packages (from requests->webdriver-manager) (3.4)\n",
      "Requirement already satisfied: urllib3<3,>=1.21.1 in c:\\users\\yanna\\appdata\\local\\programs\\python\\python312\\lib\\site-packages (from requests->webdriver-manager) (2.0.7)\n",
      "Requirement already satisfied: certifi>=2017.4.17 in c:\\users\\yanna\\appdata\\local\\programs\\python\\python312\\lib\\site-packages (from requests->webdriver-manager) (2023.7.22)\n",
      "Note: you may need to restart the kernel to use updated packages.\n"
     ]
    },
    {
     "name": "stderr",
     "output_type": "stream",
     "text": [
      "\n",
      "[notice] A new release of pip is available: 23.3.1 -> 23.3.2\n",
      "[notice] To update, run: python.exe -m pip install --upgrade pip\n"
     ]
    }
   ],
   "source": [
    "%pip install webdriver-manager"
   ]
  },
  {
   "cell_type": "code",
   "execution_count": 5,
   "metadata": {},
   "outputs": [
    {
     "name": "stdout",
     "output_type": "stream",
     "text": [
      "Requirement already satisfied: pandas in c:\\users\\yanna\\appdata\\local\\programs\\python\\python312\\lib\\site-packages (2.1.2)\n",
      "Requirement already satisfied: openpyxl in c:\\users\\yanna\\appdata\\local\\programs\\python\\python312\\lib\\site-packages (3.1.2)\n",
      "Requirement already satisfied: numpy<2,>=1.26.0 in c:\\users\\yanna\\appdata\\local\\programs\\python\\python312\\lib\\site-packages (from pandas) (1.26.3)\n",
      "Requirement already satisfied: python-dateutil>=2.8.2 in c:\\users\\yanna\\appdata\\roaming\\python\\python312\\site-packages (from pandas) (2.8.2)\n",
      "Requirement already satisfied: pytz>=2020.1 in c:\\users\\yanna\\appdata\\local\\programs\\python\\python312\\lib\\site-packages (from pandas) (2023.3.post1)\n",
      "Requirement already satisfied: tzdata>=2022.1 in c:\\users\\yanna\\appdata\\local\\programs\\python\\python312\\lib\\site-packages (from pandas) (2023.3)\n",
      "Requirement already satisfied: et-xmlfile in c:\\users\\yanna\\appdata\\local\\programs\\python\\python312\\lib\\site-packages (from openpyxl) (1.1.0)\n",
      "Requirement already satisfied: six>=1.5 in c:\\users\\yanna\\appdata\\roaming\\python\\python312\\site-packages (from python-dateutil>=2.8.2->pandas) (1.16.0)\n",
      "Note: you may need to restart the kernel to use updated packages.\n"
     ]
    },
    {
     "name": "stderr",
     "output_type": "stream",
     "text": [
      "\n",
      "[notice] A new release of pip is available: 23.3.1 -> 23.3.2\n",
      "[notice] To update, run: python.exe -m pip install --upgrade pip\n"
     ]
    }
   ],
   "source": [
    "%pip install pandas openpyxl"
   ]
  },
  {
   "cell_type": "code",
   "execution_count": 41,
   "metadata": {},
   "outputs": [
    {
     "name": "stdout",
     "output_type": "stream",
     "text": [
      "Note: you may need to restart the kernel to use updated packages.Collecting seaborn\n",
      "  Downloading seaborn-0.13.1-py3-none-any.whl.metadata (5.4 kB)\n",
      "Requirement already satisfied: numpy!=1.24.0,>=1.20 in c:\\users\\yanna\\appdata\\local\\programs\\python\\python312\\lib\\site-packages (from seaborn) (1.26.3)\n",
      "Requirement already satisfied: pandas>=1.2 in c:\\users\\yanna\\appdata\\local\\programs\\python\\python312\\lib\\site-packages (from seaborn) (2.1.2)\n",
      "Requirement already satisfied: matplotlib!=3.6.1,>=3.4 in c:\\users\\yanna\\appdata\\local\\programs\\python\\python312\\lib\\site-packages (from seaborn) (3.8.2)\n",
      "Requirement already satisfied: contourpy>=1.0.1 in c:\\users\\yanna\\appdata\\local\\programs\\python\\python312\\lib\\site-packages (from matplotlib!=3.6.1,>=3.4->seaborn) (1.2.0)\n",
      "Requirement already satisfied: cycler>=0.10 in c:\\users\\yanna\\appdata\\local\\programs\\python\\python312\\lib\\site-packages (from matplotlib!=3.6.1,>=3.4->seaborn) (0.12.1)\n",
      "Requirement already satisfied: fonttools>=4.22.0 in c:\\users\\yanna\\appdata\\local\\programs\\python\\python312\\lib\\site-packages (from matplotlib!=3.6.1,>=3.4->seaborn) (4.45.1)\n",
      "Requirement already satisfied: kiwisolver>=1.3.1 in c:\\users\\yanna\\appdata\\local\\programs\\python\\python312\\lib\\site-packages (from matplotlib!=3.6.1,>=3.4->seaborn) (1.4.5)\n",
      "Requirement already satisfied: packaging>=20.0 in c:\\users\\yanna\\appdata\\roaming\\python\\python312\\site-packages (from matplotlib!=3.6.1,>=3.4->seaborn) (23.2)\n",
      "Requirement already satisfied: pillow>=8 in c:\\users\\yanna\\appdata\\local\\programs\\python\\python312\\lib\\site-packages (from matplotlib!=3.6.1,>=3.4->seaborn) (10.1.0)\n",
      "Requirement already satisfied: pyparsing>=2.3.1 in c:\\users\\yanna\\appdata\\local\\programs\\python\\python312\\lib\\site-packages (from matplotlib!=3.6.1,>=3.4->seaborn) (3.1.1)\n",
      "Requirement already satisfied: python-dateutil>=2.7 in c:\\users\\yanna\\appdata\\roaming\\python\\python312\\site-packages (from matplotlib!=3.6.1,>=3.4->seaborn) (2.8.2)\n",
      "Requirement already satisfied: pytz>=2020.1 in c:\\users\\yanna\\appdata\\local\\programs\\python\\python312\\lib\\site-packages (from pandas>=1.2->seaborn) (2023.3.post1)\n",
      "Requirement already satisfied: tzdata>=2022.1 in c:\\users\\yanna\\appdata\\local\\programs\\python\\python312\\lib\\site-packages (from pandas>=1.2->seaborn) (2023.3)\n",
      "Requirement already satisfied: six>=1.5 in c:\\users\\yanna\\appdata\\roaming\\python\\python312\\site-packages (from python-dateutil>=2.7->matplotlib!=3.6.1,>=3.4->seaborn) (1.16.0)\n",
      "Downloading seaborn-0.13.1-py3-none-any.whl (294 kB)\n",
      "   ---------------------------------------- 0.0/294.8 kB ? eta -:--:--\n",
      "   - -------------------------------------- 10.2/294.8 kB ? eta -:--:--\n",
      "   -------- ------------------------------- 61.4/294.8 kB 1.1 MB/s eta 0:00:01\n",
      "   ---------------------------------------- 294.8/294.8 kB 3.0 MB/s eta 0:00:00\n",
      "Installing collected packages: seaborn\n",
      "Successfully installed seaborn-0.13.1\n",
      "\n"
     ]
    },
    {
     "name": "stderr",
     "output_type": "stream",
     "text": [
      "\n",
      "[notice] A new release of pip is available: 23.3.1 -> 23.3.2\n",
      "[notice] To update, run: python.exe -m pip install --upgrade pip\n"
     ]
    }
   ],
   "source": [
    "%pip install seaborn"
   ]
  },
  {
   "cell_type": "markdown",
   "metadata": {},
   "source": [
    "**Nous scrappons le site internet**\n",
    "\n",
    "Pour rappel, maximum_pages défini le nombre de pages ciblées."
   ]
  },
  {
   "cell_type": "markdown",
   "metadata": {},
   "source": [
    "------------------------------------------"
   ]
  },
  {
   "cell_type": "markdown",
   "metadata": {},
   "source": [
    "**SCRAPPING**\n",
    "\n",
    "Nous scrappons le site afin de créer un fichier excel qui permettra de sauvegarder les données"
   ]
  },
  {
   "cell_type": "code",
   "execution_count": 11,
   "metadata": {},
   "outputs": [],
   "source": [
    "from selenium import webdriver\n",
    "from selenium.webdriver.chrome.service import Service\n",
    "from selenium.webdriver.common.by import By\n",
    "from webdriver_manager.chrome import ChromeDriverManager\n",
    "import pandas as pd\n",
    "import time\n",
    "import re\n",
    "from datetime import datetime\n",
    "\n",
    "def extract_salary(salary_str):\n",
    "    numbers = re.findall(r'\\d+', salary_str)\n",
    "    return ''.join(numbers) if numbers else None\n",
    "\n",
    "def process_salary(salary_str):\n",
    "    if salary_str and '-' in salary_str:\n",
    "        salary_min, salary_max = salary_str.split('-')\n",
    "        return int(extract_salary(salary_min)), int(extract_salary(salary_max))\n",
    "    else:\n",
    "        return None, None\n",
    "\n",
    "def classify_job_title(job_title):\n",
    "    job_title_lower = job_title.lower()\n",
    "    if \"analyste\" in job_title_lower or \"analyst\" in job_title_lower:\n",
    "        return 1\n",
    "    elif \"scientist\" in job_title_lower:\n",
    "        return 2\n",
    "    elif \"engineer\" in job_title_lower or \"ingénieur\" in job_title_lower or \"ingenieur\" in job_title_lower:\n",
    "        return 3\n",
    "    elif \"big\" in job_title_lower:\n",
    "        return 4\n",
    "    elif \"bi\" in job_title_lower:\n",
    "        return 5\n",
    "    elif \"projet\" in job_title_lower:\n",
    "        return 6\n",
    "    elif \"developpeur\" in job_title_lower or \"developer\" in job_title_lower:\n",
    "        return 7\n",
    "    else:\n",
    "        return 0\n",
    "\n",
    "options = webdriver.ChromeOptions()\n",
    "options.add_argument(\"--disable-notifications\")\n",
    "driver = webdriver.Chrome(service=Service(ChromeDriverManager().install()), options=options)\n",
    "\n",
    "current_page = 1\n",
    "maximum_pages = 96\n",
    "data = []\n",
    "\n",
    "current_day = datetime.now().day\n",
    "current_month = datetime.now().month\n",
    "current_year = datetime.now().year\n",
    "\n",
    "while current_page <= maximum_pages:\n",
    "    url = f'https://www.hellowork.com/fr-fr/emploi/recherche.html?k=data+&ray=all&msa=0&cod=all&d=all&p={current_page}&mode=pagination'\n",
    "    driver.get(url)\n",
    "    time.sleep(3)\n",
    "\n",
    "    job_listings = driver.find_elements(By.CSS_SELECTOR, 'li[class=\"!tw-mb-6 \"]')\n",
    "    \n",
    "    for job in job_listings:\n",
    "        job_title_elements = job.find_elements(By.CSS_SELECTOR, 'a[class=\"md:tw-text-xlOld tw-text-2xlOld tw-leading-[1.625rem]\"]')\n",
    "        contract_elements = job.find_elements(By.CSS_SELECTOR, 'span[data-cy=\"contract\"]')\n",
    "        company_elements = job.find_elements(By.CSS_SELECTOR, 'span.tw-mr-2')\n",
    "        location_elements = job.find_elements(By.CSS_SELECTOR, 'span.tw-text-ellipsis')\n",
    "        salary_elements = job.find_elements(By.CSS_SELECTOR, 'span.tw-text-jobsCandidacy.tw-typo-s')\n",
    "\n",
    "        job_title = job_title_elements[0].text if job_title_elements else 'N/A'\n",
    "        number = classify_job_title(job_title)\n",
    "        contract = contract_elements[0].text if contract_elements else 'N/A'\n",
    "        company = company_elements[0].text if company_elements else 'N/A'\n",
    "\n",
    "        # Traitement de la localisation et extraction de la région\n",
    "        location_raw = location_elements[0].text if location_elements else 'N/A'\n",
    "        location_parts = re.split(r'(\\d+)', location_raw)\n",
    "        location_clean = location_parts[0].strip()\n",
    "        region = location_parts[1].strip() if len(location_parts) > 1 else 'N/A'\n",
    "\n",
    "        salary = salary_elements[0].text if salary_elements else None\n",
    "        salary_min, salary_max = process_salary(salary)\n",
    "        \n",
    "        data.append([number, job_title, contract, company, location_clean, region, salary_min, salary_max, current_day, current_month, current_year])\n",
    "\n",
    "    current_page += 1\n",
    "\n",
    "driver.quit()\n",
    "\n",
    "df = pd.DataFrame(data, columns=[\"Number\", \"Job Title\", \"Contrat\", \"Company\", \"Location\", \"Region\", \"Salary min\", \"Salary max\", \"Day\", \"Month\", \"Year\"])\n",
    "\n",
    "df['Salary min'] = pd.to_numeric(df['Salary min'], errors='coerce')\n",
    "df['Salary max'] = pd.to_numeric(df['Salary max'], errors='coerce')\n",
    "df['Salary'] = df[['Salary min', 'Salary max']].mean(axis=1, skipna=True)\n",
    "df = df.dropna(subset=['Salary'])\n",
    "\n",
    "\n",
    "df.to_excel('JobsListML.xlsx', index=False)    \n",
    "\n",
    "\n"
   ]
  },
  {
   "cell_type": "markdown",
   "metadata": {},
   "source": [
    "**Nous analysons les données collectées**"
   ]
  },
  {
   "cell_type": "code",
   "execution_count": 15,
   "metadata": {},
   "outputs": [
    {
     "data": {
      "text/html": [
       "<div>\n",
       "<style scoped>\n",
       "    .dataframe tbody tr th:only-of-type {\n",
       "        vertical-align: middle;\n",
       "    }\n",
       "\n",
       "    .dataframe tbody tr th {\n",
       "        vertical-align: top;\n",
       "    }\n",
       "\n",
       "    .dataframe thead th {\n",
       "        text-align: right;\n",
       "    }\n",
       "</style>\n",
       "<table border=\"1\" class=\"dataframe\">\n",
       "  <thead>\n",
       "    <tr style=\"text-align: right;\">\n",
       "      <th></th>\n",
       "      <th>Number</th>\n",
       "      <th>Job Title</th>\n",
       "      <th>Contrat</th>\n",
       "      <th>Company</th>\n",
       "      <th>Location</th>\n",
       "      <th>Region</th>\n",
       "      <th>Salary min</th>\n",
       "      <th>Salary max</th>\n",
       "      <th>Day</th>\n",
       "      <th>Month</th>\n",
       "      <th>Year</th>\n",
       "      <th>Salary</th>\n",
       "    </tr>\n",
       "  </thead>\n",
       "  <tbody>\n",
       "    <tr>\n",
       "      <th>0</th>\n",
       "      <td>0</td>\n",
       "      <td>Data Enginer H/F</td>\n",
       "      <td>CDI</td>\n",
       "      <td>HR Team</td>\n",
       "      <td>Nice -</td>\n",
       "      <td>06</td>\n",
       "      <td>37000.0</td>\n",
       "      <td>48000.0</td>\n",
       "      <td>15</td>\n",
       "      <td>1</td>\n",
       "      <td>2024</td>\n",
       "      <td>42500.0</td>\n",
       "    </tr>\n",
       "    <tr>\n",
       "      <th>1</th>\n",
       "      <td>0</td>\n",
       "      <td>Qa Data H/F</td>\n",
       "      <td>CDI</td>\n",
       "      <td>Altelios Technology Group</td>\n",
       "      <td>Puteaux -</td>\n",
       "      <td>92</td>\n",
       "      <td>45000.0</td>\n",
       "      <td>60000.0</td>\n",
       "      <td>15</td>\n",
       "      <td>1</td>\n",
       "      <td>2024</td>\n",
       "      <td>52500.0</td>\n",
       "    </tr>\n",
       "    <tr>\n",
       "      <th>2</th>\n",
       "      <td>3</td>\n",
       "      <td>Data Engineer - Data Factory H/F</td>\n",
       "      <td>CDI</td>\n",
       "      <td>EURO-INFORMATION DEVELOPPEMENTS</td>\n",
       "      <td>Nantes -</td>\n",
       "      <td>44</td>\n",
       "      <td>34000.0</td>\n",
       "      <td>50000.0</td>\n",
       "      <td>15</td>\n",
       "      <td>1</td>\n",
       "      <td>2024</td>\n",
       "      <td>42000.0</td>\n",
       "    </tr>\n",
       "    <tr>\n",
       "      <th>3</th>\n",
       "      <td>0</td>\n",
       "      <td>Data Administrator H/F</td>\n",
       "      <td>CDI</td>\n",
       "      <td>Adsearch</td>\n",
       "      <td>Aulnay-sous-Bois -</td>\n",
       "      <td>93</td>\n",
       "      <td>30000.0</td>\n",
       "      <td>50000.0</td>\n",
       "      <td>15</td>\n",
       "      <td>1</td>\n",
       "      <td>2024</td>\n",
       "      <td>40000.0</td>\n",
       "    </tr>\n",
       "    <tr>\n",
       "      <th>4</th>\n",
       "      <td>1</td>\n",
       "      <td>Data Business Analyst H/F</td>\n",
       "      <td>CDI</td>\n",
       "      <td>LR Technologies Nord</td>\n",
       "      <td>Lille -</td>\n",
       "      <td>59</td>\n",
       "      <td>48000.0</td>\n",
       "      <td>53000.0</td>\n",
       "      <td>15</td>\n",
       "      <td>1</td>\n",
       "      <td>2024</td>\n",
       "      <td>50500.0</td>\n",
       "    </tr>\n",
       "    <tr>\n",
       "      <th>...</th>\n",
       "      <td>...</td>\n",
       "      <td>...</td>\n",
       "      <td>...</td>\n",
       "      <td>...</td>\n",
       "      <td>...</td>\n",
       "      <td>...</td>\n",
       "      <td>...</td>\n",
       "      <td>...</td>\n",
       "      <td>...</td>\n",
       "      <td>...</td>\n",
       "      <td>...</td>\n",
       "      <td>...</td>\n",
       "    </tr>\n",
       "    <tr>\n",
       "      <th>476</th>\n",
       "      <td>2</td>\n",
       "      <td>Alternant Data Scientist H/F</td>\n",
       "      <td>Alternance</td>\n",
       "      <td>AGL Group</td>\n",
       "      <td>Puteaux -</td>\n",
       "      <td>92</td>\n",
       "      <td>47174.0</td>\n",
       "      <td>174720.0</td>\n",
       "      <td>15</td>\n",
       "      <td>1</td>\n",
       "      <td>2024</td>\n",
       "      <td>110947.0</td>\n",
       "    </tr>\n",
       "    <tr>\n",
       "      <th>477</th>\n",
       "      <td>0</td>\n",
       "      <td>Stagiaire Consultant Data Analytics - Public -...</td>\n",
       "      <td>Stage</td>\n",
       "      <td>stages</td>\n",
       "      <td>Neuilly-sur-Seine -</td>\n",
       "      <td>92</td>\n",
       "      <td>15000.0</td>\n",
       "      <td>22000.0</td>\n",
       "      <td>15</td>\n",
       "      <td>1</td>\n",
       "      <td>2024</td>\n",
       "      <td>18500.0</td>\n",
       "    </tr>\n",
       "    <tr>\n",
       "      <th>480</th>\n",
       "      <td>6</td>\n",
       "      <td>Apprenti - Chargé de Projet Data &amp; Planificati...</td>\n",
       "      <td>Alternance</td>\n",
       "      <td>Air France</td>\n",
       "      <td>Montreuil -</td>\n",
       "      <td>93</td>\n",
       "      <td>47174.0</td>\n",
       "      <td>174720.0</td>\n",
       "      <td>15</td>\n",
       "      <td>1</td>\n",
       "      <td>2024</td>\n",
       "      <td>110947.0</td>\n",
       "    </tr>\n",
       "    <tr>\n",
       "      <th>482</th>\n",
       "      <td>1</td>\n",
       "      <td>Data Analyst N6 - 7 Selon Profil H/F</td>\n",
       "      <td>CDI</td>\n",
       "      <td>Lasecurecrute.fr</td>\n",
       "      <td>Paris</td>\n",
       "      <td>1</td>\n",
       "      <td>33607.0</td>\n",
       "      <td>40000.0</td>\n",
       "      <td>15</td>\n",
       "      <td>1</td>\n",
       "      <td>2024</td>\n",
       "      <td>36803.5</td>\n",
       "    </tr>\n",
       "    <tr>\n",
       "      <th>483</th>\n",
       "      <td>1</td>\n",
       "      <td>Gdo - Alternance - Business Intelligence Data ...</td>\n",
       "      <td>Alternance</td>\n",
       "      <td>Air Liquide</td>\n",
       "      <td>Paris -</td>\n",
       "      <td>75</td>\n",
       "      <td>47174.0</td>\n",
       "      <td>174720.0</td>\n",
       "      <td>15</td>\n",
       "      <td>1</td>\n",
       "      <td>2024</td>\n",
       "      <td>110947.0</td>\n",
       "    </tr>\n",
       "  </tbody>\n",
       "</table>\n",
       "<p>448 rows × 12 columns</p>\n",
       "</div>"
      ],
      "text/plain": [
       "     Number                                          Job Title     Contrat  \\\n",
       "0         0                                   Data Enginer H/F         CDI   \n",
       "1         0                                        Qa Data H/F         CDI   \n",
       "2         3                   Data Engineer - Data Factory H/F         CDI   \n",
       "3         0                             Data Administrator H/F         CDI   \n",
       "4         1                          Data Business Analyst H/F         CDI   \n",
       "..      ...                                                ...         ...   \n",
       "476       2                       Alternant Data Scientist H/F  Alternance   \n",
       "477       0  Stagiaire Consultant Data Analytics - Public -...       Stage   \n",
       "480       6  Apprenti - Chargé de Projet Data & Planificati...  Alternance   \n",
       "482       1               Data Analyst N6 - 7 Selon Profil H/F         CDI   \n",
       "483       1  Gdo - Alternance - Business Intelligence Data ...  Alternance   \n",
       "\n",
       "                             Company             Location Region  Salary min  \\\n",
       "0                            HR Team               Nice -     06     37000.0   \n",
       "1          Altelios Technology Group            Puteaux -     92     45000.0   \n",
       "2    EURO-INFORMATION DEVELOPPEMENTS             Nantes -     44     34000.0   \n",
       "3                           Adsearch   Aulnay-sous-Bois -     93     30000.0   \n",
       "4               LR Technologies Nord              Lille -     59     48000.0   \n",
       "..                               ...                  ...    ...         ...   \n",
       "476                        AGL Group            Puteaux -     92     47174.0   \n",
       "477                           stages  Neuilly-sur-Seine -     92     15000.0   \n",
       "480                       Air France          Montreuil -     93     47174.0   \n",
       "482                 Lasecurecrute.fr                Paris      1     33607.0   \n",
       "483                      Air Liquide              Paris -     75     47174.0   \n",
       "\n",
       "     Salary max  Day  Month  Year    Salary  \n",
       "0       48000.0   15      1  2024   42500.0  \n",
       "1       60000.0   15      1  2024   52500.0  \n",
       "2       50000.0   15      1  2024   42000.0  \n",
       "3       50000.0   15      1  2024   40000.0  \n",
       "4       53000.0   15      1  2024   50500.0  \n",
       "..          ...  ...    ...   ...       ...  \n",
       "476    174720.0   15      1  2024  110947.0  \n",
       "477     22000.0   15      1  2024   18500.0  \n",
       "480    174720.0   15      1  2024  110947.0  \n",
       "482     40000.0   15      1  2024   36803.5  \n",
       "483    174720.0   15      1  2024  110947.0  \n",
       "\n",
       "[448 rows x 12 columns]"
      ]
     },
     "execution_count": 15,
     "metadata": {},
     "output_type": "execute_result"
    }
   ],
   "source": [
    "df"
   ]
  },
  {
   "cell_type": "code",
   "execution_count": 14,
   "metadata": {},
   "outputs": [
    {
     "data": {
      "text/html": [
       "<div>\n",
       "<style scoped>\n",
       "    .dataframe tbody tr th:only-of-type {\n",
       "        vertical-align: middle;\n",
       "    }\n",
       "\n",
       "    .dataframe tbody tr th {\n",
       "        vertical-align: top;\n",
       "    }\n",
       "\n",
       "    .dataframe thead th {\n",
       "        text-align: right;\n",
       "    }\n",
       "</style>\n",
       "<table border=\"1\" class=\"dataframe\">\n",
       "  <thead>\n",
       "    <tr style=\"text-align: right;\">\n",
       "      <th></th>\n",
       "      <th>Number</th>\n",
       "      <th>Salary min</th>\n",
       "      <th>Salary max</th>\n",
       "      <th>Day</th>\n",
       "      <th>Month</th>\n",
       "      <th>Year</th>\n",
       "      <th>Salary</th>\n",
       "    </tr>\n",
       "  </thead>\n",
       "  <tbody>\n",
       "    <tr>\n",
       "      <th>count</th>\n",
       "      <td>448.000000</td>\n",
       "      <td>4.480000e+02</td>\n",
       "      <td>4.480000e+02</td>\n",
       "      <td>448.0</td>\n",
       "      <td>448.0</td>\n",
       "      <td>448.0</td>\n",
       "      <td>4.480000e+02</td>\n",
       "    </tr>\n",
       "    <tr>\n",
       "      <th>mean</th>\n",
       "      <td>1.830357</td>\n",
       "      <td>4.884759e+04</td>\n",
       "      <td>1.166499e+05</td>\n",
       "      <td>15.0</td>\n",
       "      <td>1.0</td>\n",
       "      <td>2024.0</td>\n",
       "      <td>8.274873e+04</td>\n",
       "    </tr>\n",
       "    <tr>\n",
       "      <th>std</th>\n",
       "      <td>1.896132</td>\n",
       "      <td>1.971557e+05</td>\n",
       "      <td>5.685692e+05</td>\n",
       "      <td>0.0</td>\n",
       "      <td>0.0</td>\n",
       "      <td>0.0</td>\n",
       "      <td>3.008232e+05</td>\n",
       "    </tr>\n",
       "    <tr>\n",
       "      <th>min</th>\n",
       "      <td>0.000000</td>\n",
       "      <td>1.400000e+01</td>\n",
       "      <td>1.300000e+01</td>\n",
       "      <td>15.0</td>\n",
       "      <td>1.0</td>\n",
       "      <td>2024.0</td>\n",
       "      <td>1.500000e+01</td>\n",
       "    </tr>\n",
       "    <tr>\n",
       "      <th>25%</th>\n",
       "      <td>0.000000</td>\n",
       "      <td>3.500000e+04</td>\n",
       "      <td>4.200000e+04</td>\n",
       "      <td>15.0</td>\n",
       "      <td>1.0</td>\n",
       "      <td>2024.0</td>\n",
       "      <td>4.000000e+04</td>\n",
       "    </tr>\n",
       "    <tr>\n",
       "      <th>50%</th>\n",
       "      <td>1.000000</td>\n",
       "      <td>4.000000e+04</td>\n",
       "      <td>5.000000e+04</td>\n",
       "      <td>15.0</td>\n",
       "      <td>1.0</td>\n",
       "      <td>2024.0</td>\n",
       "      <td>4.725000e+04</td>\n",
       "    </tr>\n",
       "    <tr>\n",
       "      <th>75%</th>\n",
       "      <td>3.000000</td>\n",
       "      <td>4.800000e+04</td>\n",
       "      <td>6.000000e+04</td>\n",
       "      <td>15.0</td>\n",
       "      <td>1.0</td>\n",
       "      <td>2024.0</td>\n",
       "      <td>5.500000e+04</td>\n",
       "    </tr>\n",
       "    <tr>\n",
       "      <th>max</th>\n",
       "      <td>7.000000</td>\n",
       "      <td>4.200003e+06</td>\n",
       "      <td>6.999998e+06</td>\n",
       "      <td>15.0</td>\n",
       "      <td>1.0</td>\n",
       "      <td>2024.0</td>\n",
       "      <td>3.527499e+06</td>\n",
       "    </tr>\n",
       "  </tbody>\n",
       "</table>\n",
       "</div>"
      ],
      "text/plain": [
       "           Number    Salary min    Salary max    Day  Month    Year  \\\n",
       "count  448.000000  4.480000e+02  4.480000e+02  448.0  448.0   448.0   \n",
       "mean     1.830357  4.884759e+04  1.166499e+05   15.0    1.0  2024.0   \n",
       "std      1.896132  1.971557e+05  5.685692e+05    0.0    0.0     0.0   \n",
       "min      0.000000  1.400000e+01  1.300000e+01   15.0    1.0  2024.0   \n",
       "25%      0.000000  3.500000e+04  4.200000e+04   15.0    1.0  2024.0   \n",
       "50%      1.000000  4.000000e+04  5.000000e+04   15.0    1.0  2024.0   \n",
       "75%      3.000000  4.800000e+04  6.000000e+04   15.0    1.0  2024.0   \n",
       "max      7.000000  4.200003e+06  6.999998e+06   15.0    1.0  2024.0   \n",
       "\n",
       "             Salary  \n",
       "count  4.480000e+02  \n",
       "mean   8.274873e+04  \n",
       "std    3.008232e+05  \n",
       "min    1.500000e+01  \n",
       "25%    4.000000e+04  \n",
       "50%    4.725000e+04  \n",
       "75%    5.500000e+04  \n",
       "max    3.527499e+06  "
      ]
     },
     "execution_count": 14,
     "metadata": {},
     "output_type": "execute_result"
    }
   ],
   "source": [
    "df.describe()"
   ]
  },
  {
   "cell_type": "code",
   "execution_count": 13,
   "metadata": {},
   "outputs": [
    {
     "data": {
      "text/plain": [
       "Number\n",
       "0    107669.201220\n",
       "1     50043.768750\n",
       "2     39942.307692\n",
       "3     97948.000000\n",
       "4     61689.400000\n",
       "5     48913.642857\n",
       "6     51007.941176\n",
       "7     42500.000000\n",
       "Name: Salary, dtype: float64"
      ]
     },
     "execution_count": 13,
     "metadata": {},
     "output_type": "execute_result"
    }
   ],
   "source": [
    "# Nous calculons la moyenne des salaires par type.\n",
    "# Le post de data engineer semble être le plus rémunéré en moyenne\n",
    "\n",
    "average_salaries = df.groupby('Number')['Salary'].mean()\n",
    "average_salaries"
   ]
  },
  {
   "cell_type": "code",
   "execution_count": 16,
   "metadata": {},
   "outputs": [
    {
     "data": {
      "text/plain": [
       "Number\n",
       "0    164\n",
       "1     80\n",
       "2     26\n",
       "3    109\n",
       "4     20\n",
       "5     14\n",
       "6     34\n",
       "7      1\n",
       "Name: Salary, dtype: int64"
      ]
     },
     "execution_count": 16,
     "metadata": {},
     "output_type": "execute_result"
    }
   ],
   "source": [
    "# Nous calculons le nombre de post à pourvoir par type\n",
    "# Sous constatons que les post de data engineer et data analyst sont les plus demandés\n",
    "\n",
    "count_salaries = df.groupby('Number')['Salary'].count()\n",
    "count_salaries"
   ]
  },
  {
   "cell_type": "markdown",
   "metadata": {},
   "source": [
    "-------------------"
   ]
  },
  {
   "cell_type": "markdown",
   "metadata": {},
   "source": [
    "**Projection**\n",
    "\n",
    "Nous souhaitons faire une projection des salaires futurs et évaluer le nombre d'annonce en ligne par catégorie. Cependant, n'ayant que les données du 15/01, en attendant les prochaines et afin de tester la régression, nous établissons des données aléatoires sur la bases de celles scrappées. En mutlipliant par 0.5 à 1.5."
   ]
  },
  {
   "cell_type": "code",
   "execution_count": 76,
   "metadata": {},
   "outputs": [
    {
     "name": "stdout",
     "output_type": "stream",
     "text": [
      "0.764287492439385\n"
     ]
    }
   ],
   "source": [
    "import random\n",
    "\n",
    "# Nous générons des nombres aléatoires entre 0.5 et 1.5\n",
    "\n",
    "random_number0 = random.uniform(0.5, 1.5)\n",
    "random_number1 = random.uniform(0.5, 1.5)\n",
    "random_number2 = random.uniform(0.5, 1.5)\n",
    "random_number3 = random.uniform(0.5, 1.5)\n",
    "random_number4 = random.uniform(0.5, 1.5)\n",
    "random_number5 = random.uniform(0.5, 1.5)\n",
    "random_number6 = random.uniform(0.5, 1.5)\n",
    "random_number7 = random.uniform(0.5, 1.5)\n"
   ]
  },
  {
   "cell_type": "code",
   "execution_count": 81,
   "metadata": {},
   "outputs": [
    {
     "name": "stdout",
     "output_type": "stream",
     "text": [
      "Régression pour Mean_Salary_0:\n",
      "  Coefficient (pente): 27.197336336101227\n",
      "  Intercept: -19968643.286737766\n",
      "\n",
      "Régression pour Mean_Salary_1:\n",
      "  Coefficient (pente): 27.397857339440854\n",
      "  Intercept: -20174287.711718004\n",
      "\n",
      "Régression pour Mean_Salary_2:\n",
      "  Coefficient (pente): -58.6081239748378\n",
      "  Intercept: 43328317.0809498\n",
      "\n",
      "Régression pour Mean_Salary_3:\n",
      "  Coefficient (pente): -88.86911048739066\n",
      "  Intercept: 65698638.10520676\n",
      "\n",
      "Régression pour Mean_Salary_4:\n",
      "  Coefficient (pente): 34.575998699522565\n",
      "  Intercept: -25461345.131635603\n",
      "\n",
      "Régression pour Mean_Salary_5:\n",
      "  Coefficient (pente): -22.02829977548332\n",
      "  Intercept: 16309588.01205895\n",
      "\n",
      "Régression pour Mean_Salary_6:\n",
      "  Coefficient (pente): -22.265071642344985\n",
      "  Intercept: 16486460.675756732\n",
      "\n",
      "Régression pour Mean_Salary_7:\n",
      "  Coefficient (pente): -17.573234321059857\n",
      "  Intercept: 13014569.738512805\n",
      "\n"
     ]
    }
   ],
   "source": [
    "import pandas as pd\n",
    "from sklearn.linear_model import LinearRegression\n",
    "import numpy as np\n",
    "import matplotlib.pyplot as plt\n",
    "import seaborn as sns\n",
    "import pandas as pd\n",
    "from sklearn.linear_model import LinearRegression\n",
    "\n",
    "# Nous établissons la bibliothèque data comprenant chaque type d'emploi, les données du 15/01 sont celles scrappées, les suivantes sont établies aléatoirement pour tester la régression\n",
    "data = {\n",
    "    'Date': ['01/15/2023', '02/01/2023', '02/15/2024', '03/01/2024',],\n",
    "    'Mean_Salary_0': [average_salaries[0], average_salaries[0]*random_number0, average_salaries[0]*random_number0, average_salaries[0]*random_number0],  # Pour Number 1\n",
    "    'Mean_Salary_1': [average_salaries[1], average_salaries[1]*random_number1, average_salaries[1]*random_number1, average_salaries[1]*random_number1],  # Pour Number 2\n",
    "    'Mean_Salary_2': [average_salaries[2], average_salaries[2]*random_number0, average_salaries[2]*random_number2, average_salaries[2]*random_number2],  # Pour Number 2\n",
    "    'Mean_Salary_3': [average_salaries[3], average_salaries[2]*random_number3, average_salaries[2]*random_number3, average_salaries[2]*random_number3],  # Pour Number 2\n",
    "    'Mean_Salary_4': [average_salaries[4], average_salaries[4]*random_number4, average_salaries[4]*random_number4, average_salaries[4]*random_number4],  # Pour Number 2\n",
    "    'Mean_Salary_5': [average_salaries[5], average_salaries[5]*random_number5, average_salaries[5]*random_number5, average_salaries[5]*random_number5],  # Pour Number 2\n",
    "    'Mean_Salary_6': [average_salaries[6], average_salaries[6]*random_number6, average_salaries[6]*random_number6, average_salaries[6]*random_number6],  # Pour Number 2\n",
    "    'Mean_Salary_7': [average_salaries[7], average_salaries[7]*random_number7, average_salaries[7]*random_number7, average_salaries[7]*random_number7],  # Pour Number 2\n",
    "    \n",
    "}\n",
    "\n",
    "# Création du data frame\n",
    "df = pd.DataFrame(data)\n",
    "\n",
    "# Transformation des dates en nombres et non en string\n",
    "df['Date'] = pd.to_datetime(df['Date'])\n",
    "df['Date_ordinal'] = df['Date'].apply(lambda x: x.toordinal())\n",
    "\n",
    "# Nous faisons la regression linéaire pour chaque groupe de Number en excluant la colonne 'Date' et 'Date_ordinal'\n",
    "for col in df.columns[1:-1]:  \n",
    "    X = df[['Date_ordinal']]\n",
    "    y = df[col]\n",
    "    model = LinearRegression()\n",
    "    model.fit(X, y)\n",
    "\n",
    "    # Nous affichons les résultats de la régression pour chaque groupe\n",
    "    print(f\"Régression pour {col}:\")\n",
    "    print(f\"  Coefficient (pente): {model.coef_[0]}\")\n",
    "    print(f\"  Intercept: {model.intercept_}\\n\")\n",
    "\n"
   ]
  },
  {
   "cell_type": "markdown",
   "metadata": {},
   "source": [
    "Nous allons maintenant afficher graphiquement"
   ]
  },
  {
   "cell_type": "code",
   "execution_count": 82,
   "metadata": {},
   "outputs": [
    {
     "data": {
      "image/png": "[encoded data removed]",
      "text/plain": [
       "<Figure size 1000x500 with 1 Axes>"
      ]
     },
     "metadata": {},
     "output_type": "display_data"
    }
   ],
   "source": [
    "# Convertions les dates en nombres pour la régression\n",
    "df['Date'] = pd.to_datetime(df['Date'])\n",
    "df['Date_num'] = df['Date'].map(pd.Timestamp.toordinal)\n",
    "\n",
    "# Initialisation du modèle de régression linéaire\n",
    "model = LinearRegression()\n",
    "\n",
    "# Préparation des données pour l'entraînement\n",
    "X = df[['Date_num']]\n",
    "y = df['Mean_Salary_0']\n",
    "\n",
    "# Entrainement du modèle\n",
    "model.fit(X, y)\n",
    "\n",
    "df['Predictions'] = model.predict(X)\n",
    "\n",
    "# Traçage du graphique\n",
    "plt.figure(figsize=(10, 5))\n",
    "sns.scatterplot(x='Date', y='Mean_Salary_0', data=df, color='blue', label='Actual Data')\n",
    "sns.lineplot(x='Date', y='Predictions', data=df, color='red', label='Linear Regression')\n",
    "\n",
    "plt.xlabel('Date')\n",
    "plt.ylabel('Mean_Salary_0')\n",
    "plt.title('Linear Regression of Average Salary Over Time')\n",
    "plt.legend()\n",
    "plt.show()"
   ]
  },
  {
   "cell_type": "markdown",
   "metadata": {},
   "source": [
    "Nous faisons de même pour les valeurs count (nombre d'annonce en ligne par type)"
   ]
  },
  {
   "cell_type": "code",
   "execution_count": 77,
   "metadata": {},
   "outputs": [
    {
     "name": "stdout",
     "output_type": "stream",
     "text": [
      "Régression pour Mean_Salary_0:\n",
      "  Coefficient (pente): 0.04142654639024368\n",
      "  Intercept: -30415.917104728305\n",
      "\n",
      "Régression pour Mean_Salary_1:\n",
      "  Coefficient (pente): 0.0437982318658858\n",
      "  Intercept: -32250.628944436594\n",
      "\n",
      "Régression pour Mean_Salary_2:\n",
      "  Coefficient (pente): -0.03815030506209952\n",
      "  Intercept: 28204.08507147045\n",
      "\n",
      "Régression pour Mean_Salary_3:\n",
      "  Coefficient (pente): -0.11748298710340702\n",
      "  Intercept: 86831.65298186058\n",
      "\n",
      "Régression pour Mean_Salary_4:\n",
      "  Coefficient (pente): 0.011209704973471154\n",
      "  Intercept: -8254.690475717258\n",
      "\n",
      "Régression pour Mean_Salary_5:\n",
      "  Coefficient (pente): -0.006304911653328871\n",
      "  Intercept: 4668.109321476997\n",
      "\n",
      "Régression pour Mean_Salary_6:\n",
      "  Coefficient (pente): -0.014841070201612664\n",
      "  Intercept: 10989.262652974898\n",
      "\n",
      "Régression pour Mean_Salary_7:\n",
      "  Coefficient (pente): -0.00041348786637787903\n",
      "  Intercept: 306.22517031794837\n",
      "\n"
     ]
    }
   ],
   "source": [
    "# Nous établissons la bibliothèque data comprenant chaque type d'emploi, les données du 15/01 sont celles scrappées, les suivantes sont établies aléatoirement pour tester la régression\n",
    "data = {\n",
    "    'Date': ['01/15/2023', '02/01/2023', '02/15/2024', '03/01/2024',],\n",
    "    'Mean_Count_0': [count_salaries[0], count_salaries[0]*random_number0, count_salaries[0]*random_number0, count_salaries[0]*random_number0],  # Pour Number 1\n",
    "    'Mean_Count_1': [count_salaries[1], count_salaries[1]*random_number1, count_salaries[1]*random_number1, count_salaries[1]*random_number1],  # Pour Number 2\n",
    "    'Mean_Count_2': [count_salaries[2], count_salaries[2]*random_number0, count_salaries[2]*random_number2, count_salaries[2]*random_number2],  # Pour Number 2\n",
    "    'Mean_Count_3': [count_salaries[3], count_salaries[2]*random_number3, count_salaries[2]*random_number3, count_salaries[2]*random_number3],  # Pour Number 2\n",
    "    'Mean_Count_4': [count_salaries[4], count_salaries[4]*random_number4, count_salaries[4]*random_number4, count_salaries[4]*random_number4],  # Pour Number 2\n",
    "    'Mean_Count_5': [count_salaries[5], count_salaries[5]*random_number5, count_salaries[5]*random_number5, count_salaries[5]*random_number5],  # Pour Number 2\n",
    "    'Mean_Count_6': [count_salaries[6], count_salaries[6]*random_number6, count_salaries[6]*random_number6, count_salaries[6]*random_number6],  # Pour Number 2\n",
    "    'Mean_Count_7': [count_salaries[7], count_salaries[7]*random_number7, count_salaries[7]*random_number7, count_salaries[7]*random_number7],  # Pour Number 2\n",
    "    \n",
    "}\n",
    "\n",
    "# Création du data frame\n",
    "df = pd.DataFrame(data)\n",
    "\n",
    "# Transformation des dates en nombres et non en string\n",
    "df['Date'] = pd.to_datetime(df['Date'])\n",
    "df['Date_ordinal'] = df['Date'].apply(lambda x: x.toordinal())\n",
    "\n",
    "# Nous faisons la regression linéaire pour chaque groupe de Number en excluant la colonne 'Date' et 'Date_ordinal'\n",
    "for col in df.columns[1:-1]: \n",
    "    X = df[['Date_ordinal']]\n",
    "    y = df[col]\n",
    "    model = LinearRegression()\n",
    "    model.fit(X, y)\n",
    "\n",
    "    # Nous affichons les résultats de la régression pour chaque groupe\n",
    "    print(f\"Régression pour {col}:\")\n",
    "    print(f\"  Coefficient (pente): {model.coef_[0]}\")\n",
    "    print(f\"  Intercept: {model.intercept_}\\n\")\n",
    "\n"
   ]
  },
  {
   "cell_type": "code",
   "execution_count": 80,
   "metadata": {},
   "outputs": [
    {
     "data": {
      "image/png": "[encoded data removed]",
      "text/plain": [
       "<Figure size 1000x500 with 1 Axes>"
      ]
     },
     "metadata": {},
     "output_type": "display_data"
    }
   ],
   "source": [
    "# Convertions les dates en nombres pour la régression\n",
    "df['Date'] = pd.to_datetime(df['Date'])\n",
    "df['Date_num'] = df['Date'].map(pd.Timestamp.toordinal)\n",
    "\n",
    "# Initialisation du modèle de régression linéaire\n",
    "model = LinearRegression()\n",
    "\n",
    "# Préparation des données pour l'entraînement\n",
    "X = df[['Date_num']]\n",
    "y = df['Mean_Count_0']\n",
    "\n",
    "# Entrainement du modèle\n",
    "model.fit(X, y)\n",
    "\n",
    "df['Predictions'] = model.predict(X)\n",
    "\n",
    "# Traçage du graphique\n",
    "plt.figure(figsize=(10, 5))\n",
    "sns.scatterplot(x='Date', y='Mean_Count_0', data=df, color='blue', label='Actual Data')\n",
    "sns.lineplot(x='Date', y='Predictions', data=df, color='red', label='Linear Regression')\n",
    "\n",
    "plt.xlabel('Date')\n",
    "plt.ylabel('Mean_Count_0')\n",
    "plt.title('Linear Regression of Average Salary Over Time')\n",
    "plt.legend()\n",
    "plt.show()"
   ]
  }
 ],
 "metadata": {
  "kernelspec": {
   "display_name": "Python 3",
   "language": "python",
   "name": "python3"
  },
  "language_info": {
   "codemirror_mode": {
    "name": "ipython",
    "version": 3
   },
   "file_extension": ".py",
   "mimetype": "text/x-python",
   "name": "python",
   "nbconvert_exporter": "python",
   "pygments_lexer": "ipython3",
   "version": "3.12.0"
  }
 },
 "nbformat": 4,
 "nbformat_minor": 2
}
